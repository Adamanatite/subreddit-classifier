{
  "cells": [
    {
      "cell_type": "markdown",
      "metadata": {
        "id": "SqrpBxlL-VR8"
      },
      "source": [
        "## Please complete before submission:\n",
        "\n",
        "**Name:** Adam Fairlie\n",
        "\n",
        "**Student Number:** 2461352F"
      ]
    },
    {
      "cell_type": "markdown",
      "metadata": {
        "id": "SWZ4t4Ut91ur"
      },
      "source": [
        "# TextAs Data Coursework\n",
        "\n",
        "Please fill in this Google Colab by following the prompts from the coursework specification document and inserting your code in each relevant section.\n",
        "\n",
        "- You should submit this notebook together with your report. (Two separate files)\n",
        "- Specifcally you will submit **both a PDF with the report (so we can easily read it) and a .ipynb file containing the source code of your experiments as evidence**. Please do clean up your code where possible before submitting it.\n",
        "- You may add whatever additional code and text blocks as needed (perhaps with [nice formatting](https://colab.research.google.com/notebooks/markdown_guide.ipynb)). Please keep the major headings (for the question numbers) the same."
      ]
    },
    {
      "cell_type": "markdown",
      "metadata": {
        "id": "EstYvRPS_Crg"
      },
      "source": [
        "As with labs, please remember to **Save a Copy to Drive** when you start working on this so that it is saved. Completing the labs provides essential knowledge for the successful completion of the coursework. "
      ]
    },
    {
      "cell_type": "markdown",
      "metadata": {
        "id": "DyFYH3v7-ix0"
      },
      "source": [
        "## Downloading and loading Data\n",
        "\n",
        "This code loads the prepared split of the Reddit data into training, validation and testing set."
      ]
    },
    {
      "cell_type": "markdown",
      "metadata": {},
      "source": [
        "DATA DOWNLOAD CODE REMOVED FROM THIS REPOSITORY FOR PRIVACY REASONS"
      ]
    },
    {
      "cell_type": "code",
      "execution_count": 181,
      "metadata": {
        "colab": {
          "base_uri": "https://localhost:8080/"
        },
        "id": "xCezGTgdRYkj",
        "outputId": "1912999e-b7a9-4270-fc3e-3c876a7878f0"
      },
      "outputs": [
        {
          "name": "stdout",
          "output_type": "stream",
          "text": [
            "Number of posts in training data: 1200\n",
            "Number of posts in validation data: 400\n",
            "Number of posts in test data: 400\n"
          ]
        }
      ],
      "source": [
        "import json\n",
        "\n",
        "with open('reddit_train.json') as f:\n",
        "    train_data = json.load(f)\n",
        "with open('reddit_val.json') as f:\n",
        "    validation_data = json.load(f)\n",
        "with open('reddit_test.json') as f:\n",
        "    test_data = json.load(f)\n",
        "\n",
        "print(\"Number of posts in training data:\", len(train_data))\n",
        "print(\"Number of posts in validation data:\", len(validation_data))\n",
        "print(\"Number of posts in test data:\", len(test_data))"
      ]
    },
    {
      "cell_type": "markdown",
      "metadata": {
        "id": "7txBmrCG_tKr"
      },
      "source": [
        "## Q1:"
      ]
    },
    {
      "cell_type": "markdown",
      "metadata": {
        "id": "iK9u5izk_wSh"
      },
      "source": [
        "### Q1a:"
      ]
    },
    {
      "cell_type": "code",
      "execution_count": 182,
      "metadata": {
        "colab": {
          "base_uri": "https://localhost:8080/"
        },
        "id": "somE7BzpPxZu",
        "outputId": "d59ddb26-ff12-43ef-ce5a-196cef46b6f0"
      },
      "outputs": [
        {
          "data": {
            "text/plain": [
              "{'author': 'XC-XERZ',\n",
              " 'body': 'Long story short, I saw ESO in my library, downloaded it and it let me play it. I don’t think there is a free trial going around. I’m sure I didn’t buy the game.',\n",
              " 'id': 'queqfu',\n",
              " 'score': 0,\n",
              " 'subreddit': 'PS4',\n",
              " 'title': 'Can I get banned for having a game that I didn’t buy in my library?'}"
            ]
          },
          "execution_count": 182,
          "metadata": {},
          "output_type": "execute_result"
        }
      ],
      "source": [
        "# Look at what a data entry looks like\n",
        "train_data[0]"
      ]
    },
    {
      "cell_type": "code",
      "execution_count": 183,
      "metadata": {
        "colab": {
          "base_uri": "https://localhost:8080/"
        },
        "id": "g4iY7-yIQK5i",
        "outputId": "362657ee-45df-4a4b-b287-48070dae7197"
      },
      "outputs": [
        {
          "name": "stdout",
          "output_type": "stream",
          "text": [
            "Training Counts:\n",
            "Counter({'tea': 146, 'NintendoSwitch': 145, 'PS4': 142, 'Coffee': 136, 'pcgaming': 135, 'HydroHomies': 134, 'xbox': 132, 'antiMLM': 128, 'Soda': 102})\n",
            "Validation Counts:\n",
            "Counter({'antiMLM': 54, 'NintendoSwitch': 52, 'tea': 48, 'Soda': 43, 'PS4': 43, 'pcgaming': 43, 'Coffee': 42, 'HydroHomies': 38, 'xbox': 37})\n",
            "Test Counts:\n",
            "Counter({'Coffee': 56, 'NintendoSwitch': 52, 'PS4': 48, 'pcgaming': 47, 'xbox': 44, 'antiMLM': 44, 'tea': 42, 'HydroHomies': 38, 'Soda': 29})\n",
            "\n",
            "Subreddit representations\n",
            "Training data:\n",
            "12.17% - 8.50% (3.67% difference)\n",
            "Validation data:\n",
            "13.50% - 9.25% (4.25% difference)\n",
            "Test data:\n",
            "14.00% - 7.25% (6.75% difference)\n"
          ]
        }
      ],
      "source": [
        "from collections import Counter\n",
        "import pandas as pd\n",
        "# Get counts\n",
        "train_subreddit_counts = Counter([case['subreddit'] for case in train_data])\n",
        "validation_subreddit_counts = Counter([case['subreddit'] for case in validation_data])\n",
        "test_subreddit_counts = Counter([case['subreddit'] for case in test_data])\n",
        "print(\"Training Counts:\")\n",
        "print(train_subreddit_counts)\n",
        "print(\"Validation Counts:\")\n",
        "print(validation_subreddit_counts)\n",
        "print(\"Test Counts:\")\n",
        "print(test_subreddit_counts)\n",
        "\n",
        "# Find representations\n",
        "print(\"\\nSubreddit representations\")\n",
        "print(\"Training data:\")\n",
        "most_represented_train = train_subreddit_counts.most_common()[0][1] / len(train_data) * 100\n",
        "least_represented_train = train_subreddit_counts.most_common()[-1][1] / len(train_data) * 100\n",
        "train_difference = most_represented_train - least_represented_train\n",
        "print(f'{most_represented_train:.2f}% - {least_represented_train:.2f}% ({train_difference:.2f}% difference)')\n",
        "print(\"Validation data:\")\n",
        "most_represented_validation = validation_subreddit_counts.most_common()[0][1] / len(validation_data) * 100\n",
        "least_represented_validation = validation_subreddit_counts.most_common()[-1][1] / len(validation_data) * 100\n",
        "validation_difference = most_represented_validation - least_represented_validation\n",
        "print(f'{most_represented_validation:.2f}% - {least_represented_validation:.2f}% ({validation_difference:.2f}% difference)')\n",
        "print(\"Test data:\")\n",
        "most_represented_test = test_subreddit_counts.most_common()[0][1] / len(test_data) * 100\n",
        "least_represented_test = test_subreddit_counts.most_common()[-1][1] / len(test_data) * 100\n",
        "test_difference = most_represented_test - least_represented_test\n",
        "print(f'{most_represented_test:.2f}% - {least_represented_test:.2f}% ({test_difference:.2f}% difference)')"
      ]
    },
    {
      "cell_type": "code",
      "execution_count": 184,
      "metadata": {
        "colab": {
          "base_uri": "https://localhost:8080/",
          "height": 351
        },
        "id": "1JSIqxqyZsa7",
        "outputId": "bae8821e-941d-46a1-c9fb-6eb253ed0224"
      },
      "outputs": [
        {
          "data": {
            "text/plain": [
              "<matplotlib.axes._subplots.AxesSubplot at 0x7fbee75d3a10>"
            ]
          },
          "execution_count": 184,
          "metadata": {},
          "output_type": "execute_result"
        },
        {
          "data": {
            "image/png": "[encoded data removed]",
            "text/plain": [
              "<Figure size 432x288 with 1 Axes>"
            ]
          },
          "metadata": {
            "needs_background": "light"
          },
          "output_type": "display_data"
        }
      ],
      "source": [
        "# Make train dataframe and get distributions\n",
        "train_df = pd.DataFrame(train_data)\n",
        "train_df[\"subreddit\"].value_counts().plot(kind=\"bar\")"
      ]
    },
    {
      "cell_type": "code",
      "execution_count": 185,
      "metadata": {
        "colab": {
          "base_uri": "https://localhost:8080/",
          "height": 351
        },
        "id": "3AcPJlIncVfK",
        "outputId": "2d167d95-b1e0-49e5-e21a-aad18d07c382"
      },
      "outputs": [
        {
          "data": {
            "text/plain": [
              "<matplotlib.axes._subplots.AxesSubplot at 0x7fbec58df410>"
            ]
          },
          "execution_count": 185,
          "metadata": {},
          "output_type": "execute_result"
        },
        {
          "data": {
            "image/png": "[encoded data removed]",
            "text/plain": [
              "<Figure size 432x288 with 1 Axes>"
            ]
          },
          "metadata": {
            "needs_background": "light"
          },
          "output_type": "display_data"
        }
      ],
      "source": [
        "# Make validation dataframe and get distributions\n",
        "validation_df = pd.DataFrame(validation_data)\n",
        "validation_df[\"subreddit\"].value_counts().plot(kind=\"bar\")"
      ]
    },
    {
      "cell_type": "code",
      "execution_count": 186,
      "metadata": {
        "colab": {
          "base_uri": "https://localhost:8080/",
          "height": 351
        },
        "id": "RQyhfMjEcV2Z",
        "outputId": "ff0322bc-6c32-46e1-e77d-fd9601fb5746"
      },
      "outputs": [
        {
          "data": {
            "text/plain": [
              "<matplotlib.axes._subplots.AxesSubplot at 0x7fbec3dbc150>"
            ]
          },
          "execution_count": 186,
          "metadata": {},
          "output_type": "execute_result"
        },
        {
          "data": {
            "image/png": "[encoded data removed]",
            "text/plain": [
              "<Figure size 432x288 with 1 Axes>"
            ]
          },
          "metadata": {
            "needs_background": "light"
          },
          "output_type": "display_data"
        }
      ],
      "source": [
        "# Make test dataframe and get distributions\n",
        "test_df = pd.DataFrame(test_data)\n",
        "test_df[\"subreddit\"].value_counts().plot(kind=\"bar\")"
      ]
    },
    {
      "cell_type": "markdown",
      "metadata": {
        "id": "TQaSIxai_8dQ"
      },
      "source": [
        "### Q1b:"
      ]
    },
    {
      "cell_type": "code",
      "execution_count": 187,
      "metadata": {
        "colab": {
          "base_uri": "https://localhost:8080/"
        },
        "id": "IfNR0EXPcQPf",
        "outputId": "bad978c2-c5c8-44b2-f468-48b3d5bf65b8"
      },
      "outputs": [
        {
          "name": "stdout",
          "output_type": "stream",
          "text": [
            "[nltk_data] Downloading package stopwords to /root/nltk_data...\n",
            "[nltk_data]   Package stopwords is already up-to-date!\n"
          ]
        }
      ],
      "source": [
        "import spacy\n",
        "from sklearn.feature_extraction.text import CountVectorizer, TfidfVectorizer\n",
        "\n",
        "# Load the medium english model. \n",
        "# We will use this model to get embedding features for tokens later.\n",
        "#!python -m spacy download en_core_web_md\n",
        "\n",
        "nlp = spacy.load('en_core_web_sm', disable=['ner'])\n",
        "nlp.remove_pipe('tagger')\n",
        "nlp.remove_pipe('parser')\n",
        "\n",
        "# Download a stopword list\n",
        "import nltk\n",
        "nltk.download('stopwords')\n",
        "\n",
        "# Text pipeline\n",
        "def text_pipeline_spacy(text):\n",
        "    tokens = []\n",
        "    doc = nlp(text)\n",
        "    for t in doc:\n",
        "        if not t.is_stop and not t.is_punct and not t.is_space:\n",
        "            tokens.append(t.lemma_.lower())\n",
        "    return tokens\n",
        "\n",
        "# Make vectorizer\n",
        "one_hot_vectorizer = CountVectorizer(tokenizer=text_pipeline_spacy, binary=True)\n",
        "tfidf_vectorizer = TfidfVectorizer(tokenizer=text_pipeline_spacy, binary=True)"
      ]
    },
    {
      "cell_type": "code",
      "execution_count": 188,
      "metadata": {
        "id": "bkhPWm6MmXQ_"
      },
      "outputs": [],
      "source": [
        "# Create features\n",
        "onehot_train_features = one_hot_vectorizer.fit_transform(train_df['body'])\n",
        "onehot_validation_features = one_hot_vectorizer.transform(validation_df['body'])\n",
        "onehot_test_features = one_hot_vectorizer.transform(test_df['body'])\n",
        "\n",
        "tfidf_train_features = tfidf_vectorizer.fit_transform(train_df['body'])\n",
        "tfidf_validation_features = tfidf_vectorizer.transform(validation_df['body'])\n",
        "tfidf_test_features = tfidf_vectorizer.transform(test_df['body'])\n",
        "\n",
        "# Labels\n",
        "train_labels = train_df['subreddit']\n",
        "validation_labels = validation_df['subreddit']\n",
        "test_labels = test_df['subreddit']\n",
        "\n"
      ]
    },
    {
      "cell_type": "code",
      "execution_count": 189,
      "metadata": {
        "id": "Svg68HnjcQeK"
      },
      "outputs": [],
      "source": [
        "from sklearn.metrics import classification_report\n",
        "from sklearn.metrics import confusion_matrix\n",
        "from sklearn.metrics import precision_score\n",
        "from sklearn.metrics import recall_score\n",
        "from sklearn.metrics import accuracy_score\n",
        "from sklearn.metrics import fbeta_score\n",
        "\n",
        "# Print evaluations\n",
        "def evaluation_summary(description, true_labels, predictions):\n",
        "  print(\"Evaluation for: \" + description)\n",
        "  print(classification_report(true_labels, predictions,  digits=3, zero_division=0))\n",
        "  print('\\nConfusion matrix:\\n',confusion_matrix(true_labels, predictions)) # Note the order here is true, predicted"
      ]
    },
    {
      "cell_type": "code",
      "execution_count": 190,
      "metadata": {
        "colab": {
          "base_uri": "https://localhost:8080/"
        },
        "id": "mtr3JSJ_kri8",
        "outputId": "ad945374-7fe8-46d5-a15a-19975f0e95ed"
      },
      "outputs": [
        {
          "name": "stderr",
          "output_type": "stream",
          "text": [
            "/usr/local/lib/python3.7/dist-packages/sklearn/linear_model/_sag.py:354: ConvergenceWarning: The max_iter was reached which means the coef_ did not converge\n",
            "  ConvergenceWarning,\n"
          ]
        }
      ],
      "source": [
        "from sklearn.dummy import DummyClassifier\n",
        "from sklearn.linear_model import LogisticRegression\n",
        "from sklearn.svm import SVC\n",
        "\n",
        "# Fit models\n",
        "\n",
        "# Dummy Classifiers\n",
        "# Stratified\n",
        "dummy_strat = DummyClassifier(strategy='stratified')\n",
        "dummy_strat.fit(onehot_train_features, train_labels)\n",
        "# Most Frequent\n",
        "dummy_mf = DummyClassifier(strategy='most_frequent')\n",
        "dummy_mf.fit(onehot_train_features, train_labels)\n",
        "\n",
        "# Logistic Regression (One-hot)\n",
        "lr_onehot = LogisticRegression(solver='saga')\n",
        "lr_onehot_model = lr_onehot.fit(onehot_train_features, train_labels)\n",
        "\n",
        "# Logistic regression (TF-IDF)\n",
        "lr_tfidf = LogisticRegression(solver='saga')\n",
        "lr_tfidf_model = lr_tfidf.fit(tfidf_train_features, train_labels)\n",
        "\n",
        "# SVC Model\n",
        "svc = SVC(kernel=\"rbf\")\n",
        "svc_model = svc.fit(onehot_train_features, train_labels)"
      ]
    },
    {
      "cell_type": "code",
      "execution_count": 191,
      "metadata": {
        "colab": {
          "base_uri": "https://localhost:8080/"
        },
        "id": "Bi0U0Rt5qsCu",
        "outputId": "63df8603-96f9-4a8f-f636-98652755dd0a"
      },
      "outputs": [
        {
          "name": "stdout",
          "output_type": "stream",
          "text": [
            "Dummy Classifier (Stratified):\n",
            "Evaluation for: Dummy Prior\n",
            "                precision    recall  f1-score   support\n",
            "\n",
            "        Coffee      0.091     0.089     0.090        56\n",
            "   HydroHomies      0.096     0.132     0.111        38\n",
            "NintendoSwitch      0.128     0.096     0.110        52\n",
            "           PS4      0.093     0.104     0.098        48\n",
            "          Soda      0.054     0.069     0.061        29\n",
            "       antiMLM      0.095     0.091     0.093        44\n",
            "      pcgaming      0.073     0.064     0.068        47\n",
            "           tea      0.163     0.167     0.165        42\n",
            "          xbox      0.135     0.114     0.123        44\n",
            "\n",
            "      accuracy                          0.102       400\n",
            "     macro avg      0.103     0.103     0.102       400\n",
            "  weighted avg      0.105     0.102     0.103       400\n",
            "\n",
            "\n",
            "Confusion matrix:\n",
            " [[ 5  9  7 10  6  6  3  5  5]\n",
            " [ 7  5  6  3  2  4  5  4  2]\n",
            " [ 8  6  5  8  9  3  5  3  5]\n",
            " [ 5  5  5  5  6  5  7  6  4]\n",
            " [ 2  5  2  4  2  4  2  6  2]\n",
            " [ 7  8  3  9  1  4  4  2  6]\n",
            " [ 5  1  4  4  6 10  3  9  5]\n",
            " [ 6  4  3  7  3  5  4  7  3]\n",
            " [10  9  4  4  2  1  8  1  5]]\n"
          ]
        }
      ],
      "source": [
        "print(\"Dummy Classifier (Stratified):\")\n",
        "dummy_strat_predicted_labels = dummy_strat.predict(onehot_test_features)\n",
        "evaluation_summary(\"Dummy Prior\", test_labels, dummy_strat_predicted_labels)"
      ]
    },
    {
      "cell_type": "code",
      "execution_count": 192,
      "metadata": {
        "colab": {
          "base_uri": "https://localhost:8080/"
        },
        "id": "o6KLx6zqqvoP",
        "outputId": "2e71f7ed-73ef-4c01-82aa-2c5c90033da2"
      },
      "outputs": [
        {
          "name": "stdout",
          "output_type": "stream",
          "text": [
            "Dummy Classifier (Most Frequent):\n",
            "Evaluation for: Dummy Majority\n",
            "                precision    recall  f1-score   support\n",
            "\n",
            "        Coffee      0.000     0.000     0.000        56\n",
            "   HydroHomies      0.000     0.000     0.000        38\n",
            "NintendoSwitch      0.000     0.000     0.000        52\n",
            "           PS4      0.000     0.000     0.000        48\n",
            "          Soda      0.000     0.000     0.000        29\n",
            "       antiMLM      0.000     0.000     0.000        44\n",
            "      pcgaming      0.000     0.000     0.000        47\n",
            "           tea      0.105     1.000     0.190        42\n",
            "          xbox      0.000     0.000     0.000        44\n",
            "\n",
            "      accuracy                          0.105       400\n",
            "     macro avg      0.012     0.111     0.021       400\n",
            "  weighted avg      0.011     0.105     0.020       400\n",
            "\n",
            "\n",
            "Confusion matrix:\n",
            " [[ 0  0  0  0  0  0  0 56  0]\n",
            " [ 0  0  0  0  0  0  0 38  0]\n",
            " [ 0  0  0  0  0  0  0 52  0]\n",
            " [ 0  0  0  0  0  0  0 48  0]\n",
            " [ 0  0  0  0  0  0  0 29  0]\n",
            " [ 0  0  0  0  0  0  0 44  0]\n",
            " [ 0  0  0  0  0  0  0 47  0]\n",
            " [ 0  0  0  0  0  0  0 42  0]\n",
            " [ 0  0  0  0  0  0  0 44  0]]\n"
          ]
        }
      ],
      "source": [
        "print(\"Dummy Classifier (Most Frequent):\")\n",
        "dummy_mf_predicted_labels = dummy_mf.predict(onehot_test_features)\n",
        "evaluation_summary(\"Dummy Majority\", test_labels, dummy_mf_predicted_labels)"
      ]
    },
    {
      "cell_type": "code",
      "execution_count": 193,
      "metadata": {
        "colab": {
          "base_uri": "https://localhost:8080/"
        },
        "id": "6ZLCrk-KtlD9",
        "outputId": "08281d41-f0d0-4cf8-a844-3281c53b9426"
      },
      "outputs": [
        {
          "name": "stdout",
          "output_type": "stream",
          "text": [
            "Logistic Regression (One-hot):\n",
            "Evaluation for: LR onehot\n",
            "                precision    recall  f1-score   support\n",
            "\n",
            "        Coffee      0.806     0.893     0.847        56\n",
            "   HydroHomies      0.829     0.895     0.861        38\n",
            "NintendoSwitch      0.837     0.692     0.758        52\n",
            "           PS4      0.600     0.688     0.641        48\n",
            "          Soda      0.774     0.828     0.800        29\n",
            "       antiMLM      0.892     0.750     0.815        44\n",
            "      pcgaming      0.643     0.574     0.607        47\n",
            "           tea      0.860     0.881     0.871        42\n",
            "          xbox      0.739     0.773     0.756        44\n",
            "\n",
            "      accuracy                          0.770       400\n",
            "     macro avg      0.776     0.775     0.773       400\n",
            "  weighted avg      0.774     0.770     0.769       400\n",
            "\n",
            "\n",
            "Confusion matrix:\n",
            " [[50  0  0  1  2  0  1  2  0]\n",
            " [ 0 34  0  1  1  1  0  1  0]\n",
            " [ 3  0 36  3  0  0  5  0  5]\n",
            " [ 1  0  3 33  1  0  6  0  4]\n",
            " [ 1  2  0  1 24  0  0  1  0]\n",
            " [ 3  3  0  2  1 33  0  2  0]\n",
            " [ 0  2  4  9  0  2 27  0  3]\n",
            " [ 3  0  0  0  1  0  1 37  0]\n",
            " [ 1  0  0  5  1  1  2  0 34]]\n"
          ]
        }
      ],
      "source": [
        "print(\"Logistic Regression (One-hot):\")\n",
        "lr_onehot_predicted_labels = lr_onehot_model.predict(onehot_test_features)\n",
        "evaluation_summary(\"LR onehot\", test_labels, lr_onehot_predicted_labels)"
      ]
    },
    {
      "cell_type": "code",
      "execution_count": 231,
      "metadata": {
        "colab": {
          "base_uri": "https://localhost:8080/"
        },
        "id": "L3dVjIRKts-u",
        "outputId": "db868a9d-c24e-4c57-b710-3735042a8356"
      },
      "outputs": [
        {
          "name": "stdout",
          "output_type": "stream",
          "text": [
            "Logistic Regression (TFIDF):\n",
            "Evaluation for: LR TFIDF\n",
            "                precision    recall  f1-score   support\n",
            "\n",
            "        Coffee      0.962     0.911     0.936        56\n",
            "   HydroHomies      0.850     0.895     0.872        38\n",
            "NintendoSwitch      0.750     0.865     0.804        52\n",
            "           PS4      0.607     0.708     0.654        48\n",
            "          Soda      0.957     0.759     0.846        29\n",
            "       antiMLM      0.857     0.818     0.837        44\n",
            "      pcgaming      0.581     0.532     0.556        47\n",
            "           tea      0.812     0.929     0.867        42\n",
            "          xbox      0.886     0.705     0.785        44\n",
            "\n",
            "      accuracy                          0.792       400\n",
            "     macro avg      0.807     0.791     0.795       400\n",
            "  weighted avg      0.801     0.792     0.793       400\n",
            "\n",
            "\n",
            "Confusion matrix:\n",
            " [[51  0  0  0  0  0  1  4  0]\n",
            " [ 0 34  1  1  0  0  1  1  0]\n",
            " [ 0  0 45  3  0  0  2  0  2]\n",
            " [ 0  0  5 34  0  1  8  0  0]\n",
            " [ 0  3  0  1 22  1  0  2  0]\n",
            " [ 1  2  0  2  0 36  2  1  0]\n",
            " [ 0  0  7 10  0  2 25  1  2]\n",
            " [ 0  1  0  0  1  0  1 39  0]\n",
            " [ 1  0  2  5  0  2  3  0 31]]\n"
          ]
        }
      ],
      "source": [
        "print(\"Logistic Regression (TFIDF):\")\n",
        "lr_tfidf_predicted_labels = lr_tfidf_model.predict(tfidf_test_features)\n",
        "evaluation_summary(\"LR TFIDF\", test_labels, lr_tfidf_predicted_labels)"
      ]
    },
    {
      "cell_type": "code",
      "execution_count": 195,
      "metadata": {
        "colab": {
          "base_uri": "https://localhost:8080/"
        },
        "id": "HruFLhKe3_Cq",
        "outputId": "176a5d6f-394c-421f-9098-0dc1f205d883"
      },
      "outputs": [
        {
          "name": "stdout",
          "output_type": "stream",
          "text": [
            "SVC Classifier:\n",
            "Evaluation for: SVC\n",
            "                precision    recall  f1-score   support\n",
            "\n",
            "        Coffee      0.941     0.857     0.897        56\n",
            "   HydroHomies      0.853     0.763     0.806        38\n",
            "NintendoSwitch      0.673     0.673     0.673        52\n",
            "           PS4      0.369     0.792     0.503        48\n",
            "          Soda      0.793     0.793     0.793        29\n",
            "       antiMLM      0.644     0.659     0.652        44\n",
            "      pcgaming      0.737     0.298     0.424        47\n",
            "           tea      0.921     0.833     0.875        42\n",
            "          xbox      0.862     0.568     0.685        44\n",
            "\n",
            "      accuracy                          0.690       400\n",
            "     macro avg      0.755     0.693     0.701       400\n",
            "  weighted avg      0.751     0.690     0.696       400\n",
            "\n",
            "\n",
            "Confusion matrix:\n",
            " [[48  0  0  4  1  3  0  0  0]\n",
            " [ 1 29  1  4  0  1  0  2  0]\n",
            " [ 0  0 35  9  1  3  2  0  2]\n",
            " [ 0  0  6 38  0  1  2  0  1]\n",
            " [ 0  1  0  4 23  1  0  0  0]\n",
            " [ 0  3  0 10  1 29  0  1  0]\n",
            " [ 0  1  8 20  0  3 14  0  1]\n",
            " [ 2  0  0  2  1  2  0 35  0]\n",
            " [ 0  0  2 12  2  2  1  0 25]]\n"
          ]
        }
      ],
      "source": [
        "print(\"SVC Classifier:\")\n",
        "svc_predicted_labels = svc_model.predict(onehot_test_features)\n",
        "evaluation_summary(\"SVC\", test_labels, svc_predicted_labels)"
      ]
    },
    {
      "cell_type": "markdown",
      "metadata": {
        "id": "YBMJdw_j_8fx"
      },
      "source": [
        "### Q1c:"
      ]
    },
    {
      "cell_type": "code",
      "execution_count": 196,
      "metadata": {
        "id": "QxzMgd8s4_yg"
      },
      "outputs": [],
      "source": [
        "#SVC Classifier with TF-IDF Vectorisation\n",
        "svc_tfidf = SVC(kernel=\"rbf\")\n",
        "svc_tfidf_model = svc.fit(tfidf_train_features, train_labels)"
      ]
    },
    {
      "cell_type": "code",
      "execution_count": 197,
      "metadata": {
        "colab": {
          "base_uri": "https://localhost:8080/"
        },
        "id": "l9dhqAyf6j-S",
        "outputId": "761bd0ef-3589-4f74-fce4-29ce9a7a11d1"
      },
      "outputs": [
        {
          "name": "stdout",
          "output_type": "stream",
          "text": [
            "SVC Classifier (TFIDF Vectorization):\n",
            "Evaluation for: SVC\n",
            "                precision    recall  f1-score   support\n",
            "\n",
            "        Coffee      0.927     0.911     0.919        56\n",
            "   HydroHomies      0.914     0.842     0.877        38\n",
            "NintendoSwitch      0.705     0.827     0.761        52\n",
            "           PS4      0.567     0.708     0.630        48\n",
            "          Soda      0.952     0.690     0.800        29\n",
            "       antiMLM      0.875     0.795     0.833        44\n",
            "      pcgaming      0.558     0.617     0.586        47\n",
            "           tea      0.884     0.905     0.894        42\n",
            "          xbox      0.879     0.659     0.753        44\n",
            "\n",
            "      accuracy                          0.777       400\n",
            "     macro avg      0.807     0.773     0.784       400\n",
            "  weighted avg      0.797     0.777     0.782       400\n",
            "\n",
            "\n",
            "Confusion matrix:\n",
            " [[51  0  1  0  0  0  2  2  0]\n",
            " [ 1 32  1  1  0  0  2  1  0]\n",
            " [ 0  0 43  4  0  0  3  0  2]\n",
            " [ 0  0  5 34  0  1  8  0  0]\n",
            " [ 0  2  1  3 20  1  1  1  0]\n",
            " [ 1  1  0  3  0 35  3  1  0]\n",
            " [ 0  0  7  8  0  1 29  0  2]\n",
            " [ 1  0  1  0  1  0  1 38  0]\n",
            " [ 1  0  2  7  0  2  3  0 29]]\n"
          ]
        }
      ],
      "source": [
        "print(\"SVC Classifier (TFIDF Vectorization):\")\n",
        "svc_tfidf_predicted_labels = svc_tfidf_model.predict(tfidf_test_features)\n",
        "evaluation_summary(\"SVC\", test_labels, svc_tfidf_predicted_labels)"
      ]
    },
    {
      "cell_type": "markdown",
      "metadata": {
        "id": "zZcRes8WAOo6"
      },
      "source": [
        "## Q2:"
      ]
    },
    {
      "cell_type": "markdown",
      "metadata": {
        "id": "ZuAxwU0IABir"
      },
      "source": [
        "### Q2a:"
      ]
    },
    {
      "cell_type": "code",
      "execution_count": 198,
      "metadata": {
        "id": "Qjrl4tHU86xE"
      },
      "outputs": [],
      "source": [
        "from sklearn.base import BaseEstimator, TransformerMixin\n",
        "from sklearn.pipeline import FeatureUnion\n",
        "from sklearn.pipeline import Pipeline\n",
        "# Select Items\n",
        "class ItemSelector(BaseEstimator, TransformerMixin):\n",
        "    \"\"\"For data grouped by feature, select subset of data at a provided key.    \"\"\"\n",
        "\n",
        "    def __init__(self, key):\n",
        "        self.key = key\n",
        "\n",
        "    def fit(self, x, y=None):\n",
        "        return self\n",
        "\n",
        "    def transform(self, data_dict):\n",
        "        return data_dict[self.key]"
      ]
    },
    {
      "cell_type": "code",
      "execution_count": 235,
      "metadata": {
        "colab": {
          "base_uri": "https://localhost:8080/"
        },
        "id": "ydBqqOH79RAX",
        "outputId": "b248ca6b-72f8-43da-f29c-fee500793444"
      },
      "outputs": [
        {
          "name": "stdout",
          "output_type": "stream",
          "text": [
            "Evaluation for: LR TFIDF (Pipeline)\n",
            "                precision    recall  f1-score   support\n",
            "\n",
            "        Coffee      0.962     0.911     0.936        56\n",
            "   HydroHomies      0.850     0.895     0.872        38\n",
            "NintendoSwitch      0.750     0.865     0.804        52\n",
            "           PS4      0.607     0.708     0.654        48\n",
            "          Soda      0.957     0.759     0.846        29\n",
            "       antiMLM      0.857     0.818     0.837        44\n",
            "      pcgaming      0.581     0.532     0.556        47\n",
            "           tea      0.812     0.929     0.867        42\n",
            "          xbox      0.886     0.705     0.785        44\n",
            "\n",
            "      accuracy                          0.792       400\n",
            "     macro avg      0.807     0.791     0.795       400\n",
            "  weighted avg      0.801     0.792     0.793       400\n",
            "\n",
            "\n",
            "Confusion matrix:\n",
            " [[51  0  0  0  0  0  1  4  0]\n",
            " [ 0 34  1  1  0  0  1  1  0]\n",
            " [ 0  0 45  3  0  0  2  0  2]\n",
            " [ 0  0  5 34  0  1  8  0  0]\n",
            " [ 0  3  0  1 22  1  0  2  0]\n",
            " [ 1  2  0  2  0 36  2  1  0]\n",
            " [ 0  0  7 10  0  2 25  1  2]\n",
            " [ 0  1  0  0  1  0  1 39  0]\n",
            " [ 1  0  2  5  0  2  3  0 31]]\n"
          ]
        }
      ],
      "source": [
        "# Set up pipeline\n",
        "logreg_tfidf_pipeline = Pipeline([\n",
        "              ('selector', ItemSelector(key='body')),\n",
        "              ('tfidf', TfidfVectorizer(tokenizer=text_pipeline_spacy, binary=True)),\n",
        "              ('logreg', LogisticRegression(solver='saga'))\n",
        "              ])\n",
        "\n",
        "logreg_tfidf_pipeline.fit(train_df, train_labels)\n",
        "evaluation_summary(\"LR TFIDF (Pipeline)\", test_labels, logreg_tfidf_pipeline.predict(test_df))\n",
        "\n",
        "#Split train and validation\n",
        "train_val_df = pd.concat([train_df, validation_df])\n",
        "train_val_labels = pd.concat([train_labels, validation_labels])\n",
        "\n",
        "split_index = [-1]*len(train_df) + [0]*len(validation_df)\n",
        "pds = PredefinedSplit(test_fold = split_index)"
      ]
    },
    {
      "cell_type": "code",
      "execution_count": 227,
      "metadata": {
        "colab": {
          "base_uri": "https://localhost:8080/"
        },
        "id": "58PZ7WJfP63F",
        "outputId": "98822ca2-3147-4aef-cd1e-27dce110e61f"
      },
      "outputs": [
        {
          "name": "stdout",
          "output_type": "stream",
          "text": [
            "Performing grid search...\n",
            "pipeline: ['selector', 'tfidf', 'logreg']\n",
            "parameters:\n",
            "{'logreg__C': (0.001, 0.01, 0.1, 1.0, 10.0, 100.0, 1000.0, 10000.0, 100000.0)}\n",
            "Fitting 1 folds for each of 9 candidates, totalling 9 fits\n"
          ]
        },
        {
          "name": "stderr",
          "output_type": "stream",
          "text": [
            "/usr/local/lib/python3.7/dist-packages/sklearn/linear_model/_sag.py:354: ConvergenceWarning: The max_iter was reached which means the coef_ did not converge\n",
            "  ConvergenceWarning,\n",
            "/usr/local/lib/python3.7/dist-packages/sklearn/linear_model/_sag.py:354: ConvergenceWarning: The max_iter was reached which means the coef_ did not converge\n",
            "  ConvergenceWarning,\n",
            "/usr/local/lib/python3.7/dist-packages/sklearn/linear_model/_sag.py:354: ConvergenceWarning: The max_iter was reached which means the coef_ did not converge\n",
            "  ConvergenceWarning,\n",
            "/usr/local/lib/python3.7/dist-packages/sklearn/linear_model/_sag.py:354: ConvergenceWarning: The max_iter was reached which means the coef_ did not converge\n",
            "  ConvergenceWarning,\n"
          ]
        },
        {
          "name": "stdout",
          "output_type": "stream",
          "text": [
            "Best score: 0.794\n",
            "Best parameters set:\n",
            "\tlogreg__C: 1.0\n"
          ]
        }
      ],
      "source": [
        "from sklearn.model_selection import GridSearchCV, PredefinedSplit\n",
        "\n",
        "#Parameter 1: Regularisation C-Value\n",
        "params = {\n",
        "   'logreg__C': (0.001, 0.01, 0.1, 1.0, 10.0, 100.0, 1000.0, 10000.0, 100000.0),\n",
        "}\n",
        "\n",
        "grid_search = GridSearchCV(logreg_tfidf_pipeline, param_grid=params, n_jobs=1, verbose=1, scoring='f1_weighted', cv=pds)\n",
        "print(\"Performing grid search...\")\n",
        "print(\"pipeline:\", [name for name, _ in logreg_tfidf_pipeline.steps])\n",
        "print(\"parameters:\")\n",
        "print(params)\n",
        "grid_search.fit(train_val_df, train_val_labels)\n",
        "\n",
        "print(\"Best score: %0.3f\" % grid_search.best_score_)\n",
        "print(\"Best parameters set:\")\n",
        "best_parameters = grid_search.best_estimator_.get_params()\n",
        "for param_name in sorted(params.keys()):\n",
        "  print(\"\\t%s: %r\" % (param_name, best_parameters[param_name]))"
      ]
    },
    {
      "cell_type": "code",
      "execution_count": 218,
      "metadata": {
        "colab": {
          "base_uri": "https://localhost:8080/"
        },
        "id": "zQHlOuXWIc0v",
        "outputId": "5561ca83-4833-4416-ff04-7dc0f57b78ee"
      },
      "outputs": [
        {
          "name": "stdout",
          "output_type": "stream",
          "text": [
            "Evaluation for: Grid search 1\n",
            "                precision    recall  f1-score   support\n",
            "\n",
            "        Coffee      0.981     0.929     0.954        56\n",
            "   HydroHomies      0.846     0.868     0.857        38\n",
            "NintendoSwitch      0.733     0.846     0.786        52\n",
            "           PS4      0.604     0.667     0.634        48\n",
            "          Soda      0.920     0.793     0.852        29\n",
            "       antiMLM      0.787     0.841     0.813        44\n",
            "      pcgaming      0.651     0.596     0.622        47\n",
            "           tea      0.889     0.952     0.920        42\n",
            "          xbox      0.857     0.682     0.759        44\n",
            "\n",
            "      accuracy                          0.797       400\n",
            "     macro avg      0.808     0.797     0.800       400\n",
            "  weighted avg      0.803     0.797     0.798       400\n",
            "\n",
            "\n",
            "Confusion matrix:\n",
            " [[52  1  0  0  1  0  0  2  0]\n",
            " [ 0 33  0  0  0  2  2  1  0]\n",
            " [ 0  0 44  4  0  0  2  0  2]\n",
            " [ 0  0  8 32  0  1  6  0  1]\n",
            " [ 0  2  0  2 23  1  0  1  0]\n",
            " [ 0  3  1  0  0 37  2  1  0]\n",
            " [ 0  0  5  8  0  4 28  0  2]\n",
            " [ 0  0  0  0  1  0  1 40  0]\n",
            " [ 1  0  2  7  0  2  2  0 30]]\n"
          ]
        }
      ],
      "source": [
        "# Pipeline after parameter 1 (C = 1.0)\n",
        "grid_estimator_1 = grid_search.best_estimator_\n",
        "evaluation_summary(\"Grid search 1\", test_labels, grid_estimator_1.predict(test_df))"
      ]
    },
    {
      "cell_type": "code",
      "execution_count": 236,
      "metadata": {
        "colab": {
          "base_uri": "https://localhost:8080/"
        },
        "id": "ww9tPimphJV2",
        "outputId": "d1313a70-79ff-4678-a472-16f301fab539"
      },
      "outputs": [
        {
          "name": "stdout",
          "output_type": "stream",
          "text": [
            "Performing grid search...\n",
            "pipeline: ['selector', 'tfidf', 'logreg']\n",
            "parameters:\n",
            "{'tfidf__sublinear_tf': (False, True)}\n",
            "Fitting 1 folds for each of 2 candidates, totalling 2 fits\n",
            "Best score: 0.794\n",
            "Best parameters set:\n",
            "\ttfidf__sublinear_tf: True\n"
          ]
        }
      ],
      "source": [
        "#Parameter 2: Sublinear TF\n",
        "params = {\n",
        "   'tfidf__sublinear_tf': (False, True),\n",
        "}\n",
        "\n",
        "grid_search_2 = GridSearchCV(grid_estimator_1, param_grid=params, n_jobs=1, verbose=1, scoring='f1_weighted', cv=pds)\n",
        "print(\"Performing grid search...\")\n",
        "print(\"pipeline:\", [name for name, _ in logreg_tfidf_pipeline.steps])\n",
        "print(\"parameters:\")\n",
        "print(params)\n",
        "grid_search_2.fit(train_val_df, train_val_labels)\n",
        "\n",
        "print(\"Best score: %0.3f\" % grid_search_2.best_score_)\n",
        "print(\"Best parameters set:\")\n",
        "best_parameters = grid_search_2.best_estimator_.get_params()\n",
        "for param_name in sorted(params.keys()):\n",
        "  print(\"\\t%s: %r\" % (param_name, best_parameters[param_name]))"
      ]
    },
    {
      "cell_type": "code",
      "execution_count": 237,
      "metadata": {
        "colab": {
          "base_uri": "https://localhost:8080/"
        },
        "id": "NDg3_FPDhW8g",
        "outputId": "06acb167-634d-4d8a-c9f5-6b2a27d5b2b3"
      },
      "outputs": [
        {
          "name": "stdout",
          "output_type": "stream",
          "text": [
            "Evaluation for: Grid search 2\n",
            "                precision    recall  f1-score   support\n",
            "\n",
            "        Coffee      0.981     0.929     0.954        56\n",
            "   HydroHomies      0.846     0.868     0.857        38\n",
            "NintendoSwitch      0.733     0.846     0.786        52\n",
            "           PS4      0.604     0.667     0.634        48\n",
            "          Soda      0.920     0.793     0.852        29\n",
            "       antiMLM      0.787     0.841     0.813        44\n",
            "      pcgaming      0.651     0.596     0.622        47\n",
            "           tea      0.889     0.952     0.920        42\n",
            "          xbox      0.857     0.682     0.759        44\n",
            "\n",
            "      accuracy                          0.797       400\n",
            "     macro avg      0.808     0.797     0.800       400\n",
            "  weighted avg      0.803     0.797     0.798       400\n",
            "\n",
            "\n",
            "Confusion matrix:\n",
            " [[52  1  0  0  1  0  0  2  0]\n",
            " [ 0 33  0  0  0  2  2  1  0]\n",
            " [ 0  0 44  4  0  0  2  0  2]\n",
            " [ 0  0  8 32  0  1  6  0  1]\n",
            " [ 0  2  0  2 23  1  0  1  0]\n",
            " [ 0  3  1  0  0 37  2  1  0]\n",
            " [ 0  0  5  8  0  4 28  0  2]\n",
            " [ 0  0  0  0  1  0  1 40  0]\n",
            " [ 1  0  2  7  0  2  2  0 30]]\n"
          ]
        }
      ],
      "source": [
        "# Pipeline after parameter 2 (sublinear_tf=True)\n",
        "grid_estimator_2 = grid_search_2.best_estimator_\n",
        "evaluation_summary(\"Grid search 2\", test_labels, grid_estimator_2.predict(test_df))"
      ]
    },
    {
      "cell_type": "code",
      "execution_count": 238,
      "metadata": {
        "colab": {
          "base_uri": "https://localhost:8080/"
        },
        "id": "YmVWXSOyEN82",
        "outputId": "95dfca9b-9c2c-4dd9-caf7-7dd7d9c68f0d"
      },
      "outputs": [
        {
          "name": "stdout",
          "output_type": "stream",
          "text": [
            "Performing grid search...\n",
            "pipeline: ['selector', 'tfidf', 'logreg']\n",
            "parameters:\n",
            "{'tfidf__max_features': (None, 1000, 5000, 10000, 20000, 25000, 30000, 40000, 50000)}\n",
            "Fitting 1 folds for each of 9 candidates, totalling 9 fits\n",
            "Best score: 0.795\n",
            "Best parameters set:\n",
            "\ttfidf__max_features: 20000\n"
          ]
        }
      ],
      "source": [
        "#Parameter 3: Max Features\n",
        "params = {\n",
        "   'tfidf__max_features': (None, 1000, 5000, 10000, 20000, 25000, 30000, 40000, 50000), \n",
        "}\n",
        "\n",
        "grid_search_3 = GridSearchCV(grid_estimator_2, param_grid=params, n_jobs=1, verbose=1, scoring='f1_weighted', cv=pds)\n",
        "print(\"Performing grid search...\")\n",
        "print(\"pipeline:\", [name for name, _ in logreg_tfidf_pipeline.steps])\n",
        "print(\"parameters:\")\n",
        "print(params)\n",
        "grid_search_3.fit(train_val_df, train_val_labels)\n",
        "\n",
        "print(\"Best score: %0.3f\" % grid_search_3.best_score_)\n",
        "print(\"Best parameters set:\")\n",
        "best_parameters = grid_search_3.best_estimator_.get_params()\n",
        "for param_name in sorted(params.keys()):\n",
        "  print(\"\\t%s: %r\" % (param_name, best_parameters[param_name]))"
      ]
    },
    {
      "cell_type": "code",
      "execution_count": 239,
      "metadata": {
        "colab": {
          "base_uri": "https://localhost:8080/"
        },
        "id": "0pqIqg5LSAH1",
        "outputId": "79e832ac-b6f1-4f79-e249-3b8b6493d13d"
      },
      "outputs": [
        {
          "name": "stdout",
          "output_type": "stream",
          "text": [
            "Evaluation for: Grid search 3\n",
            "                precision    recall  f1-score   support\n",
            "\n",
            "        Coffee      0.981     0.929     0.954        56\n",
            "   HydroHomies      0.846     0.868     0.857        38\n",
            "NintendoSwitch      0.733     0.846     0.786        52\n",
            "           PS4      0.604     0.667     0.634        48\n",
            "          Soda      0.920     0.793     0.852        29\n",
            "       antiMLM      0.787     0.841     0.813        44\n",
            "      pcgaming      0.651     0.596     0.622        47\n",
            "           tea      0.889     0.952     0.920        42\n",
            "          xbox      0.857     0.682     0.759        44\n",
            "\n",
            "      accuracy                          0.797       400\n",
            "     macro avg      0.808     0.797     0.800       400\n",
            "  weighted avg      0.803     0.797     0.798       400\n",
            "\n",
            "\n",
            "Confusion matrix:\n",
            " [[52  1  0  0  1  0  0  2  0]\n",
            " [ 0 33  0  0  0  2  2  1  0]\n",
            " [ 0  0 44  4  0  0  2  0  2]\n",
            " [ 0  0  8 32  0  1  6  0  1]\n",
            " [ 0  2  0  2 23  1  0  1  0]\n",
            " [ 0  3  1  0  0 37  2  1  0]\n",
            " [ 0  0  5  8  0  4 28  0  2]\n",
            " [ 0  0  0  0  1  0  1 40  0]\n",
            " [ 1  0  2  7  0  2  2  0 30]]\n"
          ]
        }
      ],
      "source": [
        "# Pipeline after parameter 3 (max_features=20000)\n",
        "grid_estimator_3 = grid_search_3.best_estimator_\n",
        "evaluation_summary(\"Grid search 3\", test_labels, grid_estimator_3.predict(test_df))"
      ]
    },
    {
      "cell_type": "code",
      "execution_count": 240,
      "metadata": {
        "colab": {
          "base_uri": "https://localhost:8080/"
        },
        "id": "-5w1WmPaFk3F",
        "outputId": "1c4415c7-7d14-4133-8af1-010f319b00c8"
      },
      "outputs": [
        {
          "name": "stdout",
          "output_type": "stream",
          "text": [
            "Performing grid search...\n",
            "pipeline: ['selector', 'tfidf', 'logreg']\n",
            "parameters:\n",
            "{'logreg__tol': (1e-07, 1e-06, 1e-05, 0.0001, 0.001, 0.01)}\n",
            "Fitting 1 folds for each of 6 candidates, totalling 6 fits\n"
          ]
        },
        {
          "name": "stderr",
          "output_type": "stream",
          "text": [
            "/usr/local/lib/python3.7/dist-packages/sklearn/linear_model/_sag.py:354: ConvergenceWarning: The max_iter was reached which means the coef_ did not converge\n",
            "  ConvergenceWarning,\n",
            "/usr/local/lib/python3.7/dist-packages/sklearn/linear_model/_sag.py:354: ConvergenceWarning: The max_iter was reached which means the coef_ did not converge\n",
            "  ConvergenceWarning,\n"
          ]
        },
        {
          "name": "stdout",
          "output_type": "stream",
          "text": [
            "Best score: 0.796\n",
            "Best parameters set:\n",
            "\tlogreg__tol: 0.01\n"
          ]
        }
      ],
      "source": [
        "#Parameter 4: Tolerance\n",
        "params = {\n",
        "   'logreg__tol': (1e-7, 1e-6, 1e-5, 1e-4, 1e-3, 1e-2), \n",
        "}\n",
        "\n",
        "grid_search_4 = GridSearchCV(grid_estimator_3, param_grid=params, n_jobs=1, verbose=1, scoring='f1_weighted', cv=pds)\n",
        "print(\"Performing grid search...\")\n",
        "print(\"pipeline:\", [name for name, _ in logreg_tfidf_pipeline.steps])\n",
        "print(\"parameters:\")\n",
        "print(params)\n",
        "grid_search_4.fit(train_val_df, train_val_labels)\n",
        "\n",
        "print(\"Best score: %0.3f\" % grid_search_4.best_score_)\n",
        "print(\"Best parameters set:\")\n",
        "best_parameters = grid_search_4.best_estimator_.get_params()\n",
        "for param_name in sorted(params.keys()):\n",
        "  print(\"\\t%s: %r\" % (param_name, best_parameters[param_name]))"
      ]
    },
    {
      "cell_type": "code",
      "execution_count": 242,
      "metadata": {
        "colab": {
          "base_uri": "https://localhost:8080/"
        },
        "id": "4Ec2Dj2pS3tU",
        "outputId": "2e6f0846-f1c7-424d-a5b6-bf56e50f5554"
      },
      "outputs": [
        {
          "name": "stdout",
          "output_type": "stream",
          "text": [
            "Evaluation for: Optimised Estimator\n",
            "                precision    recall  f1-score   support\n",
            "\n",
            "        Coffee      0.981     0.929     0.954        56\n",
            "   HydroHomies      0.846     0.868     0.857        38\n",
            "NintendoSwitch      0.741     0.827     0.782        52\n",
            "           PS4      0.593     0.667     0.627        48\n",
            "          Soda      0.920     0.793     0.852        29\n",
            "       antiMLM      0.792     0.864     0.826        44\n",
            "      pcgaming      0.651     0.596     0.622        47\n",
            "           tea      0.889     0.952     0.920        42\n",
            "          xbox      0.857     0.682     0.759        44\n",
            "\n",
            "      accuracy                          0.797       400\n",
            "     macro avg      0.808     0.797     0.800       400\n",
            "  weighted avg      0.803     0.797     0.798       400\n",
            "\n",
            "\n",
            "Confusion matrix:\n",
            " [[52  1  0  0  1  0  0  2  0]\n",
            " [ 0 33  0  0  0  2  2  1  0]\n",
            " [ 0  0 43  5  0  0  2  0  2]\n",
            " [ 0  0  8 32  0  1  6  0  1]\n",
            " [ 0  2  0  2 23  1  0  1  0]\n",
            " [ 0  3  0  0  0 38  2  1  0]\n",
            " [ 0  0  5  8  0  4 28  0  2]\n",
            " [ 0  0  0  0  1  0  1 40  0]\n",
            " [ 1  0  2  7  0  2  2  0 30]]\n"
          ]
        }
      ],
      "source": [
        "# Pipeline after parameter 4 (tol=0.01)\n",
        "optimised_estimator = grid_search_4.best_estimator_\n",
        "evaluation_summary(\"Optimised Estimator\", test_labels, optimised_estimator.predict(test_df))"
      ]
    },
    {
      "cell_type": "markdown",
      "metadata": {
        "id": "pIsRTiW-ABs8"
      },
      "source": [
        "### Q2b:"
      ]
    },
    {
      "cell_type": "code",
      "execution_count": 284,
      "metadata": {
        "colab": {
          "base_uri": "https://localhost:8080/",
          "height": 513
        },
        "id": "QBsHIZcWFMOS",
        "outputId": "198a4807-4324-4469-c526-252ba49734a0"
      },
      "outputs": [
        {
          "data": {
            "image/png": "[encoded data removed]",
            "text/plain": [
              "<Figure size 2880x576 with 2 Axes>"
            ]
          },
          "metadata": {
            "needs_background": "light"
          },
          "output_type": "display_data"
        }
      ],
      "source": [
        "# Normalised confusion matrix (adapted from https://scikit-learn.org/stable/auto_examples/model_selection/plot_confusion_matrix.html)\n",
        "import numpy as np\n",
        "import matplotlib.pyplot as plt\n",
        "from sklearn.metrics import ConfusionMatrixDisplay\n",
        "np.set_printoptions(precision=2)\n",
        "\n",
        "# Print evaluations\n",
        "def normalised_confusion_matrix(description, classifier, data, true_labels):\n",
        "\n",
        "  # Plot normalized confusion matrix\n",
        "  titles_options = [\n",
        "      (\"Normalized confusion matrix for \" + description, \"true\"),\n",
        "  ]\n",
        "  for title, normalize in titles_options:\n",
        "      disp = ConfusionMatrixDisplay.from_estimator(\n",
        "          classifier,\n",
        "          data,\n",
        "          true_labels,\n",
        "          cmap=plt.cm.Blues,\n",
        "          normalize=normalize,\n",
        "      )\n",
        "      disp.ax_.set_title(title)\n",
        "      disp.figure_.set_size_inches(40, 8)\n",
        "      # Adapted from https://stackoverflow.com/a/11250884\n",
        "      labels = [item.get_text() for item in disp.ax_.get_xticklabels()]\n",
        "      # Shorten labels\n",
        "      labels = [l[:6] + \"..\" if len(l) > 8 else l for l in labels]\n",
        "      disp.ax_.set_xticklabels(labels)\n",
        "\n",
        "  plt.show()\n",
        "\n",
        "#Show normalised confusion matrix for the optimised estimator\n",
        "normalised_confusion_matrix(\"Optimised estimator\", optimised_estimator, test_df, test_labels)\n"
      ]
    },
    {
      "cell_type": "markdown",
      "metadata": {
        "id": "BWs7YqOOAbLp"
      },
      "source": [
        "## Q3:"
      ]
    },
    {
      "cell_type": "markdown",
      "metadata": {
        "id": "lOpWB9pMAcri"
      },
      "source": [
        "### Q3a:"
      ]
    },
    {
      "cell_type": "code",
      "execution_count": 280,
      "metadata": {
        "id": "podP13NAtbcl"
      },
      "outputs": [],
      "source": [
        "# Extra feature 1: Use post titles in addition to bodies\n",
        "\n",
        "multivariate_pipeline = Pipeline([\n",
        "        ('union', FeatureUnion(\n",
        "          transformer_list=[\n",
        "            ('post_title', Pipeline([\n",
        "              ('selector', ItemSelector(key='title')),\n",
        "              ('one-hot', TfidfVectorizer(tokenizer=text_pipeline_spacy, binary=True)), \n",
        "              ])),\n",
        "            ('post_body', Pipeline([\n",
        "              ('selector', ItemSelector(key='body')),\n",
        "              ('one-hot', TfidfVectorizer(tokenizer=text_pipeline_spacy, binary=True)), \n",
        "              ])),\n",
        "        ])\n",
        "        )\n",
        "    ])\n",
        "\n",
        "# Create new multivariate features\n",
        "multivariate_train_features = multivariate_pipeline.fit_transform(train_df, train_labels)\n",
        "multivariate_validation_features = multivariate_pipeline.transform(validation_df)\n",
        "multivariate_test_features = multivariate_pipeline.transform(test_df)\n"
      ]
    },
    {
      "cell_type": "code",
      "execution_count": 281,
      "metadata": {
        "id": "kC2Kp-S9tbvC"
      },
      "outputs": [],
      "source": [
        "from sklearn.ensemble import RandomForestClassifier\n",
        "# Extra feature 2: Use a random forest classifier instead of a logistic regression\n",
        "forest = RandomForestClassifier()"
      ]
    },
    {
      "cell_type": "markdown",
      "metadata": {
        "id": "ymz5BE7NAgZM"
      },
      "source": [
        "### Q3b:"
      ]
    },
    {
      "cell_type": "code",
      "execution_count": 282,
      "metadata": {
        "id": "mFwhOMO-tpHh"
      },
      "outputs": [],
      "source": [
        "# Fit model\n",
        "new_model = forest.fit(multivariate_train_features,train_labels)"
      ]
    },
    {
      "cell_type": "code",
      "execution_count": 285,
      "metadata": {
        "colab": {
          "base_uri": "https://localhost:8080/"
        },
        "id": "F_SJnbhotpoY",
        "outputId": "e40ffe81-5426-4f24-e8a1-17cd1d1f9ed5"
      },
      "outputs": [
        {
          "name": "stdout",
          "output_type": "stream",
          "text": [
            "Evaluation for: New Model\n",
            "                precision    recall  f1-score   support\n",
            "\n",
            "        Coffee      0.930     0.952     0.941        42\n",
            "   HydroHomies      0.822     0.974     0.892        38\n",
            "NintendoSwitch      0.891     0.788     0.837        52\n",
            "           PS4      0.580     0.674     0.624        43\n",
            "          Soda      0.889     0.930     0.909        43\n",
            "       antiMLM      0.963     0.963     0.963        54\n",
            "      pcgaming      0.703     0.605     0.650        43\n",
            "           tea      1.000     0.875     0.933        48\n",
            "          xbox      0.789     0.811     0.800        37\n",
            "\n",
            "      accuracy                          0.843       400\n",
            "     macro avg      0.841     0.841     0.839       400\n",
            "  weighted avg      0.848     0.843     0.843       400\n",
            "\n",
            "\n",
            "Confusion matrix:\n",
            " [[40  1  0  0  1  0  0  0  0]\n",
            " [ 0 37  0  1  0  0  0  0  0]\n",
            " [ 0  1 41  8  0  0  2  0  0]\n",
            " [ 0  0  2 29  2  1  5  0  4]\n",
            " [ 1  2  0  0 40  0  0  0  0]\n",
            " [ 0  0  0  1  1 52  0  0  0]\n",
            " [ 0  1  3  8  0  1 26  0  4]\n",
            " [ 2  2  0  1  1  0  0 42  0]\n",
            " [ 0  1  0  2  0  0  4  0 30]]\n"
          ]
        }
      ],
      "source": [
        "# Evaluate\n",
        "evaluation_summary(\"New Model\", validation_labels, new_model.predict(multivariate_validation_features))"
      ]
    },
    {
      "cell_type": "markdown",
      "metadata": {
        "id": "NSw1OczAAgb3"
      },
      "source": [
        "### Q3c:"
      ]
    },
    {
      "cell_type": "code",
      "execution_count": 279,
      "metadata": {
        "colab": {
          "base_uri": "https://localhost:8080/",
          "height": 513
        },
        "id": "rhh9ul5Rv0s-",
        "outputId": "9b7d8c62-54aa-41ef-8cc8-f13dcab291cc"
      },
      "outputs": [
        {
          "data": {
            "image/png": "[encoded data removed]",
            "text/plain": [
              "<Figure size 2880x576 with 2 Axes>"
            ]
          },
          "metadata": {
            "needs_background": "light"
          },
          "output_type": "display_data"
        }
      ],
      "source": [
        "# Print the confusion matrix for the new model\n",
        "normalised_confusion_matrix(\"New model\", new_model, multivariate_validation_features, validation_labels)"
      ]
    }
  ],
  "metadata": {
    "colab": {
      "collapsed_sections": [],
      "name": "2461352F_colab",
      "provenance": []
    },
    "kernelspec": {
      "display_name": "Python 3",
      "name": "python3"
    },
    "language_info": {
      "name": "python"
    }
  },
  "nbformat": 4,
  "nbformat_minor": 0
}
